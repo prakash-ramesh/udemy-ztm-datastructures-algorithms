{
 "cells": [
  {
   "cell_type": "markdown",
   "metadata": {},
   "source": [
    "Python lists are dynamic by default and can accomodate different datatypes in same list."
   ]
  },
  {
   "cell_type": "code",
   "execution_count": 1,
   "metadata": {},
   "outputs": [
    {
     "data": {
      "text/plain": [
       "['hi']"
      ]
     },
     "execution_count": 1,
     "metadata": {},
     "output_type": "execute_result"
    }
   ],
   "source": [
    "a = []\n",
    "a.insert(0, 'hi')\n",
    "a"
   ]
  },
  {
   "cell_type": "code",
   "execution_count": 2,
   "metadata": {},
   "outputs": [
    {
     "name": "stdout",
     "output_type": "stream",
     "text": [
      "Help on built-in function insert:\n",
      "\n",
      "insert(index, object, /) method of builtins.list instance\n",
      "    Insert object before index.\n",
      "\n"
     ]
    }
   ],
   "source": [
    "help(a.insert) # O(n)"
   ]
  },
  {
   "cell_type": "code",
   "execution_count": 3,
   "metadata": {},
   "outputs": [
    {
     "name": "stdout",
     "output_type": "stream",
     "text": [
      "Help on built-in function remove:\n",
      "\n",
      "remove(value, /) method of builtins.list instance\n",
      "    Remove first occurrence of value.\n",
      "\n",
      "    Raises ValueError if the value is not present.\n",
      "\n"
     ]
    }
   ],
   "source": [
    "help(a.remove) # O(n)"
   ]
  },
  {
   "cell_type": "code",
   "execution_count": 4,
   "metadata": {},
   "outputs": [
    {
     "name": "stdout",
     "output_type": "stream",
     "text": [
      "Help on built-in function append:\n",
      "\n",
      "append(object, /) method of builtins.list instance\n",
      "    Append object to the end of the list.\n",
      "\n"
     ]
    }
   ],
   "source": [
    "help(a.append) # O(1)"
   ]
  },
  {
   "cell_type": "code",
   "execution_count": 5,
   "metadata": {},
   "outputs": [
    {
     "name": "stdout",
     "output_type": "stream",
     "text": [
      "Help on built-in function pop:\n",
      "\n",
      "pop(index=-1, /) method of builtins.list instance\n",
      "    Remove and return item at index (default last).\n",
      "\n",
      "    Raises IndexError if list is empty or index is out of range.\n",
      "\n"
     ]
    }
   ],
   "source": [
    "help(a.pop) # O(n)"
   ]
  },
  {
   "cell_type": "markdown",
   "metadata": {},
   "source": [
    "**Given an array of integers, return the indices of the 2 numbers that add upto a given target**\n",
    "- can the array have negative integers? - no\n",
    "- duplicates? - no\n",
    "- always have a solution? - no\n",
    "- what should I return if no solution - null\n",
    "- will there be multiple pairs - no"
   ]
  },
  {
   "cell_type": "code",
   "execution_count": 12,
   "metadata": {},
   "outputs": [
    {
     "name": "stdout",
     "output_type": "stream",
     "text": [
      "(3, 4)\n",
      "(1, 2)\n"
     ]
    }
   ],
   "source": [
    "a = [1,3,7,9,2,7]\n",
    "b = 11\n",
    "\n",
    "def calc(x, y):\n",
    "    p1 = 0\n",
    "    p2 = 1\n",
    "\n",
    "    if len(x) <= 1:\n",
    "        return None\n",
    "    \n",
    "    while p1 < len(x):\n",
    "        ans = -1\n",
    "        num_to_find = y - x[p1]\n",
    "        try:\n",
    "            ans = x.index(num_to_find, p2) \n",
    "        except:\n",
    "            p2 = p2 + 1\n",
    "        finally:\n",
    "            if ans != -1:\n",
    "                return (p1,p2)\n",
    "        \n",
    "        p1 = p1 + 1\n",
    "\n",
    "    return None\n",
    "\n",
    "print(calc(a,b))\n",
    "\n",
    "a = [1,31,-20,9,-5,3]\n",
    "b = 11\n",
    "\n",
    "print(calc(a,b))\n",
    "# For Multiple Pairs - store the tuple in an array and return"
   ]
  },
  {
   "cell_type": "code",
   "execution_count": 18,
   "metadata": {},
   "outputs": [
    {
     "data": {
      "text/plain": [
       "(0, 2)"
      ]
     },
     "execution_count": 18,
     "metadata": {},
     "output_type": "execute_result"
    }
   ],
   "source": [
    "class Solution:\n",
    "    def twoSum(self, nums, target):\n",
    "        p1 = 0\n",
    "        p2 = 1\n",
    "\n",
    "        if len(nums) <= 1:\n",
    "            return None\n",
    "        \n",
    "        while p1 < len(nums):\n",
    "            ans = -1\n",
    "            num_to_find = target - nums[p1]\n",
    "            try:\n",
    "                ans = nums.index(num_to_find, p2)\n",
    "                p2 = ans\n",
    "            except:\n",
    "                p2 = p2 + 1\n",
    "            finally:\n",
    "                if ans != -1:\n",
    "                    return (p1,p2)\n",
    "            \n",
    "            p1 = p1 + 1\n",
    "\n",
    "        return None\n",
    "\n",
    "s1 = Solution()\n",
    "s1.twoSum([3,2,3], 6)"
   ]
  },
  {
   "cell_type": "code",
   "execution_count": null,
   "metadata": {},
   "outputs": [],
   "source": []
  }
 ],
 "metadata": {
  "kernelspec": {
   "display_name": "Python 3",
   "language": "python",
   "name": "python3"
  },
  "language_info": {
   "codemirror_mode": {
    "name": "ipython",
    "version": 3
   },
   "file_extension": ".py",
   "mimetype": "text/x-python",
   "name": "python",
   "nbconvert_exporter": "python",
   "pygments_lexer": "ipython3",
   "version": "3.12.1"
  }
 },
 "nbformat": 4,
 "nbformat_minor": 2
}
